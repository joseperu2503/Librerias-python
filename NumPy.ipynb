{
  "nbformat": 4,
  "nbformat_minor": 0,
  "metadata": {
    "colab": {
      "name": "NumPy.ipynb",
      "provenance": [],
      "authorship_tag": "ABX9TyPr8UAhIS8fQrDwUcTFMT0W",
      "include_colab_link": true
    },
    "kernelspec": {
      "name": "python3",
      "display_name": "Python 3"
    },
    "language_info": {
      "name": "python"
    }
  },
  "cells": [
    {
      "cell_type": "markdown",
      "metadata": {
        "id": "view-in-github",
        "colab_type": "text"
      },
      "source": [
        "<a href=\"https://colab.research.google.com/github/joseperu2503/NumPy/blob/main/NumPy.ipynb\" target=\"_parent\"><img src=\"https://colab.research.google.com/assets/colab-badge.svg\" alt=\"Open In Colab\"/></a>"
      ]
    },
    {
      "cell_type": "code",
      "metadata": {
        "id": "xDzYRuIBVqFt"
      },
      "source": [
        "import numpy as np"
      ],
      "execution_count": 1,
      "outputs": []
    },
    {
      "cell_type": "markdown",
      "metadata": {
        "id": "k1gNWBl8WDgK"
      },
      "source": [
        "# Crear matriz"
      ]
    },
    {
      "cell_type": "code",
      "metadata": {
        "colab": {
          "base_uri": "https://localhost:8080/"
        },
        "id": "VwMvBNcwV_w6",
        "outputId": "e77d1e06-e9b7-407a-e3c6-6e24ef6626e4"
      },
      "source": [
        "A = np.array([[1,2,3], [3,4,5]])\n",
        "print(A)"
      ],
      "execution_count": 2,
      "outputs": [
        {
          "output_type": "stream",
          "name": "stdout",
          "text": [
            "[[1 2 3]\n",
            " [3 4 5]]\n"
          ]
        }
      ]
    },
    {
      "cell_type": "markdown",
      "metadata": {
        "id": "zh2LthkYWK5i"
      },
      "source": [
        "# Crear matriz de Ceros"
      ]
    },
    {
      "cell_type": "code",
      "metadata": {
        "colab": {
          "base_uri": "https://localhost:8080/"
        },
        "id": "yItQUosHWe-E",
        "outputId": "98bdd786-12ff-4389-ddca-4505ebfbe307"
      },
      "source": [
        "Z = np.zeros((3,2))\n",
        "print(Z)"
      ],
      "execution_count": null,
      "outputs": [
        {
          "output_type": "stream",
          "name": "stdout",
          "text": [
            "[[0. 0.]\n",
            " [0. 0.]\n",
            " [0. 0.]]\n"
          ]
        }
      ]
    },
    {
      "cell_type": "markdown",
      "metadata": {
        "id": "SSLNg2eiWUHS"
      },
      "source": [
        "# Crear matriz Identidad"
      ]
    },
    {
      "cell_type": "code",
      "metadata": {
        "colab": {
          "base_uri": "https://localhost:8080/"
        },
        "id": "khyfJG61V-16",
        "outputId": "44d51df4-5191-4e01-8394-384898080287"
      },
      "source": [
        "I=np.eye(3)\n",
        "print(I)"
      ],
      "execution_count": null,
      "outputs": [
        {
          "output_type": "stream",
          "name": "stdout",
          "text": [
            "[[1. 0. 0.]\n",
            " [0. 1. 0.]\n",
            " [0. 0. 1.]]\n"
          ]
        }
      ]
    },
    {
      "cell_type": "markdown",
      "metadata": {
        "id": "WH_Idayz6Cnb"
      },
      "source": [
        "# Transpuesta de una matriz"
      ]
    },
    {
      "cell_type": "code",
      "metadata": {
        "colab": {
          "base_uri": "https://localhost:8080/"
        },
        "id": "HOxlFw7x6HrC",
        "outputId": "baa47f99-4a14-4e37-ba1c-1ad0d9f8dab4"
      },
      "source": [
        "A_transpuesta1 = np.transpose(A)  #forma 1\n",
        "print(A_transpuesta1)\n",
        "A_transpuesta2 = A.T              #forma 2\n",
        "print(A_transpuesta2)"
      ],
      "execution_count": 4,
      "outputs": [
        {
          "output_type": "stream",
          "name": "stdout",
          "text": [
            "[[1 3]\n",
            " [2 4]\n",
            " [3 5]]\n",
            "[[1 3]\n",
            " [2 4]\n",
            " [3 5]]\n"
          ]
        }
      ]
    },
    {
      "cell_type": "markdown",
      "metadata": {
        "id": "dhdtbEY6Y0ye"
      },
      "source": [
        "# Inversa de una matriz\n"
      ]
    },
    {
      "cell_type": "code",
      "metadata": {
        "colab": {
          "base_uri": "https://localhost:8080/"
        },
        "id": "djzQyStBYzWW",
        "outputId": "222a6953-859c-4b45-b9a9-a30ebcae71cf"
      },
      "source": [
        "B = np.array([[1,0,1],[0,1,1],[-1,1,1]])\n",
        "print(B)\n",
        "inversa_B = np.linalg.inv(B)\n",
        "print(inversa_B)"
      ],
      "execution_count": null,
      "outputs": [
        {
          "output_type": "stream",
          "name": "stdout",
          "text": [
            "[[ 1  0  1]\n",
            " [ 0  1  1]\n",
            " [-1  1  1]]\n",
            "[[ 0.  1. -1.]\n",
            " [-1.  2. -1.]\n",
            " [ 1. -1.  1.]]\n"
          ]
        }
      ]
    },
    {
      "cell_type": "markdown",
      "metadata": {
        "id": "XsfqZoOIZN1w"
      },
      "source": [
        "# Pseudoinversa de una matriz"
      ]
    },
    {
      "cell_type": "code",
      "metadata": {
        "colab": {
          "base_uri": "https://localhost:8080/"
        },
        "id": "TN8aMvPaZOBg",
        "outputId": "ba14d2f2-c1dd-43f1-d1a8-8e1c761a6e8e"
      },
      "source": [
        "C = np.array([[2, 3], [5, 7], [11, 13]])\n",
        "print(C)\n",
        "C_pse = np.linalg.pinv(C)\n",
        "print(C_pse)"
      ],
      "execution_count": null,
      "outputs": [
        {
          "output_type": "stream",
          "name": "stdout",
          "text": [
            "[[ 2  3]\n",
            " [ 5  7]\n",
            " [11 13]]\n",
            "[[-0.50515464 -0.78865979  0.54123711]\n",
            " [ 0.42268041  0.67010309 -0.3814433 ]]\n"
          ]
        }
      ]
    }
  ]
}