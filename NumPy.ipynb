{
  "nbformat": 4,
  "nbformat_minor": 0,
  "metadata": {
    "colab": {
      "name": "NumPy.ipynb",
      "provenance": [],
      "collapsed_sections": [],
      "authorship_tag": "ABX9TyO/P/0pBVU9mFYfH/TUALDF",
      "include_colab_link": true
    },
    "kernelspec": {
      "name": "python3",
      "display_name": "Python 3"
    },
    "language_info": {
      "name": "python"
    }
  },
  "cells": [
    {
      "cell_type": "markdown",
      "metadata": {
        "id": "view-in-github",
        "colab_type": "text"
      },
      "source": [
        "<a href=\"https://colab.research.google.com/github/joseperu2503/NumPy/blob/main/NumPy.ipynb\" target=\"_parent\"><img src=\"https://colab.research.google.com/assets/colab-badge.svg\" alt=\"Open In Colab\"/></a>"
      ]
    },
    {
      "cell_type": "code",
      "metadata": {
        "id": "xDzYRuIBVqFt"
      },
      "source": [
        "import numpy as np"
      ],
      "execution_count": 5,
      "outputs": []
    },
    {
      "cell_type": "markdown",
      "metadata": {
        "id": "Cyn_TaepZsOQ"
      },
      "source": [
        "#Vectores"
      ]
    },
    {
      "cell_type": "markdown",
      "metadata": {
        "id": "vpPMppWHZ6Tu"
      },
      "source": [
        "## Crear vector especificando rango"
      ]
    },
    {
      "cell_type": "code",
      "metadata": {
        "colab": {
          "base_uri": "https://localhost:8080/"
        },
        "id": "GA6pXBISZudO",
        "outputId": "149b1539-b3f0-45d2-a980-e2b09a597598"
      },
      "source": [
        "np.arange(20)"
      ],
      "execution_count": 7,
      "outputs": [
        {
          "output_type": "execute_result",
          "data": {
            "text/plain": [
              "array([ 0,  1,  2,  3,  4,  5,  6,  7,  8,  9, 10, 11, 12, 13, 14, 15, 16,\n",
              "       17, 18, 19])"
            ]
          },
          "metadata": {},
          "execution_count": 7
        }
      ]
    },
    {
      "cell_type": "code",
      "metadata": {
        "colab": {
          "base_uri": "https://localhost:8080/"
        },
        "id": "MawMulpJZzru",
        "outputId": "c3aaa46a-4c9f-4bbd-c362-3822c53255e2"
      },
      "source": [
        "np.arange(5,20)"
      ],
      "execution_count": 8,
      "outputs": [
        {
          "output_type": "execute_result",
          "data": {
            "text/plain": [
              "array([ 5,  6,  7,  8,  9, 10, 11, 12, 13, 14, 15, 16, 17, 18, 19])"
            ]
          },
          "metadata": {},
          "execution_count": 8
        }
      ]
    },
    {
      "cell_type": "code",
      "metadata": {
        "colab": {
          "base_uri": "https://localhost:8080/"
        },
        "id": "AaxYk4OFaNvm",
        "outputId": "eb1b9aa8-39ea-4dca-9dec-bf05d90dfbd1"
      },
      "source": [
        "np.arange(5,50,5)"
      ],
      "execution_count": 9,
      "outputs": [
        {
          "output_type": "execute_result",
          "data": {
            "text/plain": [
              "array([ 5, 10, 15, 20, 25, 30, 35, 40, 45])"
            ]
          },
          "metadata": {},
          "execution_count": 9
        }
      ]
    },
    {
      "cell_type": "markdown",
      "metadata": {
        "id": "OTX0jlGLKqre"
      },
      "source": [
        "# Matrices"
      ]
    },
    {
      "cell_type": "code",
      "metadata": {
        "id": "4phvmUh2KuId"
      },
      "source": [
        ""
      ],
      "execution_count": null,
      "outputs": []
    },
    {
      "cell_type": "markdown",
      "metadata": {
        "id": "k1gNWBl8WDgK"
      },
      "source": [
        "## Crear matriz"
      ]
    },
    {
      "cell_type": "code",
      "metadata": {
        "colab": {
          "base_uri": "https://localhost:8080/"
        },
        "id": "VwMvBNcwV_w6",
        "outputId": "e77d1e06-e9b7-407a-e3c6-6e24ef6626e4"
      },
      "source": [
        "A = np.array([[1,2,3], [3,4,5]])\n",
        "print(A)"
      ],
      "execution_count": 2,
      "outputs": [
        {
          "output_type": "stream",
          "name": "stdout",
          "text": [
            "[[1 2 3]\n",
            " [3 4 5]]\n"
          ]
        }
      ]
    },
    {
      "cell_type": "markdown",
      "metadata": {
        "id": "zh2LthkYWK5i"
      },
      "source": [
        "## Crear matriz de Ceros"
      ]
    },
    {
      "cell_type": "code",
      "metadata": {
        "colab": {
          "base_uri": "https://localhost:8080/"
        },
        "id": "yItQUosHWe-E",
        "outputId": "98bdd786-12ff-4389-ddca-4505ebfbe307"
      },
      "source": [
        "Z = np.zeros((3,2))\n",
        "print(Z)"
      ],
      "execution_count": null,
      "outputs": [
        {
          "output_type": "stream",
          "name": "stdout",
          "text": [
            "[[0. 0.]\n",
            " [0. 0.]\n",
            " [0. 0.]]\n"
          ]
        }
      ]
    },
    {
      "cell_type": "markdown",
      "metadata": {
        "id": "0mc0ac_3JxgU"
      },
      "source": [
        "## Crear matriz de Unos\n"
      ]
    },
    {
      "cell_type": "code",
      "metadata": {
        "colab": {
          "base_uri": "https://localhost:8080/"
        },
        "id": "5o1LWdD5J1Nr",
        "outputId": "9513b65b-79be-41d9-d8d3-a531ff1ecfcd"
      },
      "source": [
        "U = np.ones((4,2))\n",
        "print(U)"
      ],
      "execution_count": 6,
      "outputs": [
        {
          "output_type": "stream",
          "name": "stdout",
          "text": [
            "[[1. 1.]\n",
            " [1. 1.]\n",
            " [1. 1.]\n",
            " [1. 1.]]\n"
          ]
        }
      ]
    },
    {
      "cell_type": "markdown",
      "metadata": {
        "id": "SSLNg2eiWUHS"
      },
      "source": [
        "## Crear matriz Identidad"
      ]
    },
    {
      "cell_type": "code",
      "metadata": {
        "colab": {
          "base_uri": "https://localhost:8080/"
        },
        "id": "khyfJG61V-16",
        "outputId": "44d51df4-5191-4e01-8394-384898080287"
      },
      "source": [
        "I=np.eye(3)\n",
        "print(I)"
      ],
      "execution_count": null,
      "outputs": [
        {
          "output_type": "stream",
          "name": "stdout",
          "text": [
            "[[1. 0. 0.]\n",
            " [0. 1. 0.]\n",
            " [0. 0. 1.]]\n"
          ]
        }
      ]
    },
    {
      "cell_type": "markdown",
      "metadata": {
        "id": "f9BFHYuebTvA"
      },
      "source": [
        "##Crea matriz de un mismo elemento"
      ]
    },
    {
      "cell_type": "code",
      "metadata": {
        "colab": {
          "base_uri": "https://localhost:8080/"
        },
        "id": "htzdtiXobNnQ",
        "outputId": "e8d6be9e-4fb7-4794-93d8-d77c1d189446"
      },
      "source": [
        "np.full((3,5),10)"
      ],
      "execution_count": 10,
      "outputs": [
        {
          "output_type": "execute_result",
          "data": {
            "text/plain": [
              "array([[10, 10, 10, 10, 10],\n",
              "       [10, 10, 10, 10, 10],\n",
              "       [10, 10, 10, 10, 10]])"
            ]
          },
          "metadata": {},
          "execution_count": 10
        }
      ]
    },
    {
      "cell_type": "markdown",
      "metadata": {
        "id": "2bwIFMyobutH"
      },
      "source": [
        "##Matriz diagonal"
      ]
    },
    {
      "cell_type": "code",
      "metadata": {
        "colab": {
          "base_uri": "https://localhost:8080/"
        },
        "id": "iq4S7cm1bvBh",
        "outputId": "ac84db8d-5243-448e-d11f-f07c081ddb6d"
      },
      "source": [
        "np.diag([1,3,9,12])"
      ],
      "execution_count": 12,
      "outputs": [
        {
          "output_type": "execute_result",
          "data": {
            "text/plain": [
              "array([[ 1,  0,  0,  0],\n",
              "       [ 0,  3,  0,  0],\n",
              "       [ 0,  0,  9,  0],\n",
              "       [ 0,  0,  0, 12]])"
            ]
          },
          "metadata": {},
          "execution_count": 12
        }
      ]
    },
    {
      "cell_type": "markdown",
      "metadata": {
        "id": "WH_Idayz6Cnb"
      },
      "source": [
        "## Transpuesta de una matriz"
      ]
    },
    {
      "cell_type": "code",
      "metadata": {
        "colab": {
          "base_uri": "https://localhost:8080/"
        },
        "id": "HOxlFw7x6HrC",
        "outputId": "baa47f99-4a14-4e37-ba1c-1ad0d9f8dab4"
      },
      "source": [
        "A_transpuesta1 = np.transpose(A)  #forma 1\n",
        "print(A_transpuesta1)\n",
        "A_transpuesta2 = A.T              #forma 2\n",
        "print(A_transpuesta2)"
      ],
      "execution_count": 4,
      "outputs": [
        {
          "output_type": "stream",
          "name": "stdout",
          "text": [
            "[[1 3]\n",
            " [2 4]\n",
            " [3 5]]\n",
            "[[1 3]\n",
            " [2 4]\n",
            " [3 5]]\n"
          ]
        }
      ]
    },
    {
      "cell_type": "markdown",
      "metadata": {
        "id": "dhdtbEY6Y0ye"
      },
      "source": [
        "## Inversa de una matriz\n"
      ]
    },
    {
      "cell_type": "code",
      "metadata": {
        "colab": {
          "base_uri": "https://localhost:8080/"
        },
        "id": "djzQyStBYzWW",
        "outputId": "222a6953-859c-4b45-b9a9-a30ebcae71cf"
      },
      "source": [
        "B = np.array([[1,0,1],[0,1,1],[-1,1,1]])\n",
        "print(B)\n",
        "inversa_B = np.linalg.inv(B)\n",
        "print(inversa_B)"
      ],
      "execution_count": null,
      "outputs": [
        {
          "output_type": "stream",
          "name": "stdout",
          "text": [
            "[[ 1  0  1]\n",
            " [ 0  1  1]\n",
            " [-1  1  1]]\n",
            "[[ 0.  1. -1.]\n",
            " [-1.  2. -1.]\n",
            " [ 1. -1.  1.]]\n"
          ]
        }
      ]
    },
    {
      "cell_type": "markdown",
      "metadata": {
        "id": "XsfqZoOIZN1w"
      },
      "source": [
        "## Pseudoinversa de una matriz"
      ]
    },
    {
      "cell_type": "code",
      "metadata": {
        "colab": {
          "base_uri": "https://localhost:8080/"
        },
        "id": "TN8aMvPaZOBg",
        "outputId": "ba14d2f2-c1dd-43f1-d1a8-8e1c761a6e8e"
      },
      "source": [
        "C = np.array([[2, 3], [5, 7], [11, 13]])\n",
        "print(C)\n",
        "C_pse = np.linalg.pinv(C)\n",
        "print(C_pse)"
      ],
      "execution_count": null,
      "outputs": [
        {
          "output_type": "stream",
          "name": "stdout",
          "text": [
            "[[ 2  3]\n",
            " [ 5  7]\n",
            " [11 13]]\n",
            "[[-0.50515464 -0.78865979  0.54123711]\n",
            " [ 0.42268041  0.67010309 -0.3814433 ]]\n"
          ]
        }
      ]
    },
    {
      "cell_type": "markdown",
      "metadata": {
        "id": "JqEsXExu8YIk"
      },
      "source": [
        "hola2"
      ]
    }
  ]
}